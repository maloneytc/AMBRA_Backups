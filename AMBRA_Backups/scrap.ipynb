{
 "cells": [
  {
   "cell_type": "code",
   "execution_count": 43,
   "metadata": {},
   "outputs": [],
   "source": [
    "from datetime import datetime, timedelta\n",
    "from pathlib import Path\n",
    "import os\n",
    "import sys\n",
    "import numpy as np\n",
    "import pandas as pd\n",
    "import re\n",
    "import AMBRA_Backups\n",
    "from bs4 import BeautifulSoup\n",
    "import AMBRA_Utils\n",
    "from redcap_funcs import comp_schema_cap_db, get_project_schema\n",
    "\n",
    "db_name = 'TESTED'\n",
    "db = AMBRA_Backups.database.Database(db_name)\n",
    "project_name = 'TESTED Data Collection'\n",
    "project = AMBRA_Backups.redcap_funcs.get_redcap_project(project_name) \n",
    "\n",
    "def q(query, record=None):\n",
    "    if any(substring in query for substring in ['UPDATE', 'INSERT', 'DELETE']):\n",
    "        return db.run_insert_query(query, record)\n",
    "    elif 'SELECT' in query:\n",
    "        return pd.DataFrame(db.run_select_query(query, record, column_names=True))\n",
    "    else:\n",
    "        print('You dont have UPDATE, INSERT, DELETE or SELECT in your query my guy')"
   ]
  },
  {
   "cell_type": "code",
   "execution_count": null,
   "metadata": {},
   "outputs": [],
   "source": [
    "crf_name = 'mr'\n",
    "\n",
    "schema_questions = pd.DataFrame(db.run_select_query(\"\"\"SELECT question_text, redcap_variable FROM CRF_Schema_RedCap\n",
    "                                WHERE crf_name = %s AND question_text IS NOT NULL\"\"\", [crf_name], column_names=True))\n",
    "schema_questions['variable-value'] = schema_questions['redcap_variable']+schema_questions['question_text']\n",
    "\n",
    "api_questions = pd.DataFrame(project.export_metadata())\n",
    "api_questions = api_questions[api_questions['form_name'] == crf_name]\n",
    "field_names = pd.DataFrame(project.export_field_names())\n",
    "field_names.rename(columns={'original_field_name': 'field_name'}, inplace=True)\n",
    "# api_questions = pd.merge(field_names, api_questions, on='field_name')\n",
    "api_questions = pd.merge(api_questions, field_names, on='field_name', how='left')"
   ]
  },
  {
   "cell_type": "code",
   "execution_count": 44,
   "metadata": {},
   "outputs": [
    {
     "name": "stderr",
     "output_type": "stream",
     "text": [
      "/Users/naderdl/Documents/AMBRA_Backups/AMBRA_Backups/redcap_funcs.py:283: MarkupResemblesLocatorWarning: The input looks more like a filename than markup. You may want to open this file and pass the filehandle into Beautiful Soup.\n",
      "  soup = BeautifulSoup(row['field_label'], 'html.parser')\n",
      "/Users/naderdl/Documents/AMBRA_Backups/AMBRA_Backups/redcap_funcs.py:283: MarkupResemblesLocatorWarning: The input looks more like a filename than markup. You may want to open this file and pass the filehandle into Beautiful Soup.\n",
      "  soup = BeautifulSoup(row['field_label'], 'html.parser')\n",
      "/Users/naderdl/Documents/AMBRA_Backups/AMBRA_Backups/redcap_funcs.py:283: MarkupResemblesLocatorWarning: The input looks more like a filename than markup. You may want to open this file and pass the filehandle into Beautiful Soup.\n",
      "  soup = BeautifulSoup(row['field_label'], 'html.parser')\n"
     ]
    },
    {
     "name": "stdout",
     "output_type": "stream",
     "text": [
      "====================================================================\n",
      "====================================================================\n",
      "\n",
      "-------------------mr-------------------\n",
      "\n",
      "The following CRF_Data_RedCap.redcap_variable's are not in CRF_schema_RedCap.redcap_variable's:\n",
      "['q2018(-10)', 'q2029_mr(-10)', 'q1036_mr(3)']\n",
      "\n",
      "\n",
      "The following api-metadata question_text's are not in CRF_Schema_RedCap.question_text's:\n",
      "{redcap_variable : question_text}\n",
      "\n",
      "{'q2018(-10)': 'White matter hyperintensity (WMH) Periventricular?', 'q2029_mr(-10)': 'White matter hyperintensity (WMH) deep white matter (DWM)?'}\n",
      "\n",
      "\n",
      "====================================================================\n",
      "====================================================================\n"
     ]
    },
    {
     "ename": "Exception",
     "evalue": "Please handle the above discrepancies",
     "output_type": "error",
     "traceback": [
      "\u001b[0;31m---------------------------------------------------------------------------\u001b[0m",
      "\u001b[0;31mException\u001b[0m                                 Traceback (most recent call last)",
      "Cell \u001b[0;32mIn[44], line 1\u001b[0m\n\u001b[0;32m----> 1\u001b[0m \u001b[43mcomp_schema_cap_db\u001b[49m\u001b[43m(\u001b[49m\u001b[43mdb_name\u001b[49m\u001b[43m,\u001b[49m\u001b[43m \u001b[49m\u001b[43mproject_name\u001b[49m\u001b[43m)\u001b[49m\n",
      "File \u001b[0;32m~/Documents/AMBRA_Backups/AMBRA_Backups/redcap_funcs.py:345\u001b[0m, in \u001b[0;36mcomp_schema_cap_db\u001b[0;34m(db_name, project_name)\u001b[0m\n\u001b[1;32m    343\u001b[0m \u001b[38;5;28mprint\u001b[39m(\u001b[38;5;124m'\u001b[39m\u001b[38;5;124m====================================================================\u001b[39m\u001b[38;5;124m'\u001b[39m)\n\u001b[1;32m    344\u001b[0m \u001b[38;5;28mprint\u001b[39m(\u001b[38;5;124m'\u001b[39m\u001b[38;5;124m====================================================================\u001b[39m\u001b[38;5;124m'\u001b[39m)\n\u001b[0;32m--> 345\u001b[0m \u001b[38;5;28;01mraise\u001b[39;00m \u001b[38;5;167;01mException\u001b[39;00m(\u001b[38;5;124m'\u001b[39m\u001b[38;5;124mPlease handle the above discrepancies\u001b[39m\u001b[38;5;124m'\u001b[39m)\n",
      "\u001b[0;31mException\u001b[0m: Please handle the above discrepancies"
     ]
    }
   ],
   "source": [
    "comp_schema_cap_db(db_name, project_name)"
   ]
  }
 ],
 "metadata": {
  "kernelspec": {
   "display_name": "Python 3",
   "language": "python",
   "name": "python3"
  },
  "language_info": {
   "codemirror_mode": {
    "name": "ipython",
    "version": 3
   },
   "file_extension": ".py",
   "mimetype": "text/x-python",
   "name": "python",
   "nbconvert_exporter": "python",
   "pygments_lexer": "ipython3",
   "version": "3.12.1"
  }
 },
 "nbformat": 4,
 "nbformat_minor": 2
}
