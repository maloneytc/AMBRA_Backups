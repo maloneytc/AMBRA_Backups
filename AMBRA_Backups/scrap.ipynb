{
 "cells": [
  {
   "cell_type": "code",
   "execution_count": 1,
   "metadata": {},
   "outputs": [],
   "source": [
    "from datetime import datetime, timedelta\n",
    "from pathlib import Path\n",
    "import os\n",
    "import sys\n",
    "import numpy as np\n",
    "import pandas as pd\n",
    "import re\n",
    "import AMBRA_Backups\n",
    "from bs4 import BeautifulSoup\n",
    "import AMBRA_Utils\n",
    "from redcap_funcs import comp_schema_cap_db, get_project_schema\n",
    "\n",
    "db_name = 'SISTER'\n",
    "db = AMBRA_Backups.database.Database(db_name)\n",
    "project_name = '29423 Vagal - SISTER'\n",
    "project = AMBRA_Backups.redcap_funcs.get_redcap_project(project_name) \n",
    "\n",
    "def q(query, record=None):\n",
    "    if any(substring in query for substring in ['UPDATE', 'INSERT', 'DELETE']):\n",
    "        return db.run_insert_query(query, record)\n",
    "    elif 'SELECT' in query:\n",
    "        return pd.DataFrame(db.run_select_query(query, record, column_names=True))\n",
    "    else:\n",
    "        print('You dont have UPDATE, INSERT, DELETE or SELECT in your query my guy')"
   ]
  },
  {
   "cell_type": "code",
   "execution_count": 8,
   "metadata": {},
   "outputs": [
    {
     "data": {
      "text/html": [
       "<div>\n",
       "<style scoped>\n",
       "    .dataframe tbody tr th:only-of-type {\n",
       "        vertical-align: middle;\n",
       "    }\n",
       "\n",
       "    .dataframe tbody tr th {\n",
       "        vertical-align: top;\n",
       "    }\n",
       "\n",
       "    .dataframe thead th {\n",
       "        text-align: right;\n",
       "    }\n",
       "</style>\n",
       "<table border=\"1\" class=\"dataframe\">\n",
       "  <thead>\n",
       "    <tr style=\"text-align: right;\">\n",
       "      <th></th>\n",
       "      <th>a</th>\n",
       "    </tr>\n",
       "  </thead>\n",
       "  <tbody>\n",
       "    <tr>\n",
       "      <th>0</th>\n",
       "      <td>asreCorddf</td>\n",
       "    </tr>\n",
       "  </tbody>\n",
       "</table>\n",
       "</div>"
      ],
      "text/plain": [
       "            a\n",
       "0  asreCorddf"
      ]
     },
     "execution_count": 8,
     "metadata": {},
     "output_type": "execute_result"
    }
   ],
   "source": [
    "df = pd.DataFrame({\n",
    "    'a' : ['asreCorddf', 'qwer', 'zxcv']\n",
    "})\n",
    "\n",
    "df[df['a'].str.contains('record', case=False)]"
   ]
  },
  {
   "cell_type": "code",
   "execution_count": 3,
   "metadata": {},
   "outputs": [
    {
     "name": "stderr",
     "output_type": "stream",
     "text": [
      "/Users/naderdl/Documents/AMBRA_Backups/AMBRA_Backups/redcap_funcs.py:283: MarkupResemblesLocatorWarning: The input looks more like a filename than markup. You may want to open this file and pass the filehandle into Beautiful Soup.\n",
      "  soup = BeautifulSoup(row['field_label'], 'html.parser')\n",
      "/Users/naderdl/Documents/AMBRA_Backups/AMBRA_Backups/redcap_funcs.py:283: MarkupResemblesLocatorWarning: The input looks more like a filename than markup. You may want to open this file and pass the filehandle into Beautiful Soup.\n",
      "  soup = BeautifulSoup(row['field_label'], 'html.parser')\n",
      "/Users/naderdl/Documents/AMBRA_Backups/AMBRA_Backups/redcap_funcs.py:283: MarkupResemblesLocatorWarning: The input looks more like a filename than markup. You may want to open this file and pass the filehandle into Beautiful Soup.\n",
      "  soup = BeautifulSoup(row['field_label'], 'html.parser')\n",
      "/Users/naderdl/Documents/AMBRA_Backups/AMBRA_Backups/redcap_funcs.py:283: MarkupResemblesLocatorWarning: The input looks more like a filename than markup. You may want to open this file and pass the filehandle into Beautiful Soup.\n",
      "  soup = BeautifulSoup(row['field_label'], 'html.parser')\n"
     ]
    },
    {
     "name": "stdout",
     "output_type": "stream",
     "text": [
      "====================================================================\n",
      "====================================================================\n",
      "\n",
      "-----------baseline_ctctactp------------\n",
      "\n",
      "The following api-metadata question_text's are not in CRF_Schema_RedCap.question_text's:\n",
      "{redcap_variable : question_text}\n",
      "\n",
      "{'q1096': '<div class=\"rich-text-field-label\"><p><span style=\"font-weight: normal;\">Hypoperfusion index ratio</span></p> <p>\\xa0</p></div>', 'q1097': '<div class=\"rich-text-field-label\"><p><span style=\"font-weight: normal;\">Mismatch ratio</span></p></div>', 'q1098': '<div class=\"rich-text-field-label\"><p><span style=\"font-weight: normal;\">Absolute mismatch volume</span></p> <p>\\xa0</p></div>'}\n",
      "\n",
      "\n",
      "------------hr_30_4_ctctactp------------\n",
      "\n",
      "The following api-metadata question_text's are not in CRF_Schema_RedCap.question_text's:\n",
      "{redcap_variable : question_text}\n",
      "\n",
      "{'q4053': '<div class=\"rich-text-field-label\"><p><span style=\"font-weight: normal;\">Hypoperfusion index ratio</span></p> <p>\\xa0</p></div>', 'q4054': '<div class=\"rich-text-field-label\"><p><span style=\"font-weight: normal;\">Mismatch ratio</span></p></div>', 'q4055': '<div class=\"rich-text-field-label\"><p><span style=\"font-weight: normal;\">Absolute mismatch volume</span></p> <p>\\xa0</p></div>'}\n",
      "\n",
      "\n",
      "====================================================================\n",
      "====================================================================\n"
     ]
    },
    {
     "name": "stderr",
     "output_type": "stream",
     "text": [
      "/Users/naderdl/Documents/AMBRA_Backups/AMBRA_Backups/redcap_funcs.py:283: MarkupResemblesLocatorWarning: The input looks more like a filename than markup. You may want to open this file and pass the filehandle into Beautiful Soup.\n",
      "  soup = BeautifulSoup(row['field_label'], 'html.parser')\n"
     ]
    },
    {
     "ename": "Exception",
     "evalue": "Please handle the above discrepancies",
     "output_type": "error",
     "traceback": [
      "\u001b[0;31m---------------------------------------------------------------------------\u001b[0m",
      "\u001b[0;31mException\u001b[0m                                 Traceback (most recent call last)",
      "Cell \u001b[0;32mIn[3], line 1\u001b[0m\n\u001b[0;32m----> 1\u001b[0m \u001b[43mcomp_schema_cap_db\u001b[49m\u001b[43m(\u001b[49m\u001b[43mdb_name\u001b[49m\u001b[43m,\u001b[49m\u001b[43m \u001b[49m\u001b[43mproject_name\u001b[49m\u001b[43m)\u001b[49m\n",
      "File \u001b[0;32m~/Documents/AMBRA_Backups/AMBRA_Backups/redcap_funcs.py:345\u001b[0m, in \u001b[0;36mcomp_schema_cap_db\u001b[0;34m(db_name, project_name)\u001b[0m\n\u001b[1;32m    343\u001b[0m \u001b[38;5;28mprint\u001b[39m(\u001b[38;5;124m'\u001b[39m\u001b[38;5;124m====================================================================\u001b[39m\u001b[38;5;124m'\u001b[39m)\n\u001b[1;32m    344\u001b[0m \u001b[38;5;28mprint\u001b[39m(\u001b[38;5;124m'\u001b[39m\u001b[38;5;124m====================================================================\u001b[39m\u001b[38;5;124m'\u001b[39m)\n\u001b[0;32m--> 345\u001b[0m \u001b[38;5;28;01mraise\u001b[39;00m \u001b[38;5;167;01mException\u001b[39;00m(\u001b[38;5;124m'\u001b[39m\u001b[38;5;124mPlease handle the above discrepancies\u001b[39m\u001b[38;5;124m'\u001b[39m)\n",
      "\u001b[0;31mException\u001b[0m: Please handle the above discrepancies"
     ]
    }
   ],
   "source": [
    "comp_schema_cap_db(db_name, project_name)"
   ]
  }
 ],
 "metadata": {
  "kernelspec": {
   "display_name": "Python 3",
   "language": "python",
   "name": "python3"
  },
  "language_info": {
   "codemirror_mode": {
    "name": "ipython",
    "version": 3
   },
   "file_extension": ".py",
   "mimetype": "text/x-python",
   "name": "python",
   "nbconvert_exporter": "python",
   "pygments_lexer": "ipython3",
   "version": "3.12.1"
  }
 },
 "nbformat": 4,
 "nbformat_minor": 2
}
